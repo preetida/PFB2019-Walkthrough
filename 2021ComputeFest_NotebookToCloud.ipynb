{
  "nbformat": 4,
  "nbformat_minor": 0,
  "metadata": {
    "colab": {
      "name": "2021ComputeFest-NotebookToCloud",
      "provenance": [],
      "collapsed_sections": [],
      "include_colab_link": true
    },
    "kernelspec": {
      "name": "python3",
      "display_name": "Python 3"
    }
  },
  "cells": [
    {
      "cell_type": "markdown",
      "metadata": {
        "id": "view-in-github",
        "colab_type": "text"
      },
      "source": [
        "<a href=\"https://colab.research.google.com/github/preetida/PFB2019-Walkthrough/blob/master/2021ComputeFest_NotebookToCloud.ipynb\" target=\"_parent\"><img src=\"https://colab.research.google.com/assets/colab-badge.svg\" alt=\"Open In Colab\"/></a>"
      ]
    },
    {
      "cell_type": "markdown",
      "metadata": {
        "id": "N5tSy5f_Yxk3"
      },
      "source": [
        "# Welcome to the 2021 ComputeFest \"Notebook to Cloud\" Workshop!\n",
        "\n",
        "This notebook is *view only*. To **run this notebook** during the workshop, either:\n",
        "\n",
        "- **Make a copy:** File > Save a copy in Drive...\n",
        "\n",
        "- **Run in playground mode:** File > Open in playground mode\n",
        "\n",
        "To get access to the code we will be demoing during the workshop, please clone our repo:\n",
        "\n",
        "*   If you have already cloned the repo, please `cd \\your_computefest_folder` and `git pull` in the terminal.\n",
        "*   If you have not cloned [the repo](https://github.com/Harvard-IACS/2021-ComputeFest.git) yet, please `mkdir \\your_computefest_folder`, `cd \\your_computefest_folder` and `git clone https://github.com/Harvard-IACS/2021-ComputeFest.git` in the terminal."
      ]
    },
    {
      "cell_type": "markdown",
      "metadata": {
        "id": "xlft5G_Zeqns"
      },
      "source": [
        "# Lecture"
      ]
    },
    {
      "cell_type": "markdown",
      "metadata": {
        "id": "IFKUaQOWQXPU"
      },
      "source": [
        "![progress](https://progress-bar.dev/0/?scale=100&title=Lecture&width=960&color=babaca&suffix=% \"progress\")"
      ]
    },
    {
      "cell_type": "markdown",
      "metadata": {
        "id": "ZByCB6ojaeI1"
      },
      "source": [
        "# Workshop\n",
        "\n",
        "The workshop is divided into two parts to demonstrate why we want to deploy our Python programs onto the cloud and how to move from a notebook to the cloud. The first part will discuss the performance of Python in the development environment as well as code efficiency. The second part will be a hands-on interactive demonstration of how to deploy a machine learning program using Docker."
      ]
    },
    {
      "cell_type": "markdown",
      "metadata": {
        "id": "0-WKlMWnevWY"
      },
      "source": [
        "#Part I: Python Performance\n",
        "\n",
        "![progress](https://progress-bar.dev/14/?scale=100&title=PythonPerformance&width=960&color=babaca&suffix=% \"progress\")\n"
      ]
    },
    {
      "cell_type": "markdown",
      "metadata": {
        "id": "RjxMORSAgAJ0"
      },
      "source": [
        "The Jupyter notebook is a commonly used development environment when it comes to writing Python code. It is easy to learn and handy to use. By running a cell, you can interact with your code and see your results. Some pros of developing in a notebook are\n",
        "\n",
        "*   Easy to use: You can break your code into different cells and have immediate outputs. It's good for validating ideas and variable values.\n",
        "* Visual and Interactive:  You can see your changes in real-time.\n",
        "*   Non-linear development: You can go back to a cell and modify variables/functions at any time instead of rerunning the entire notebook.\n",
        "\n",
        "There is always a tradeoff when it comes to developing large-scale applications.  In the first part of the workshop, we assume that participants are familiar with using Jupyter notebooks, and we focus on some advice for how to improve your efficiency when working with a notebook.  We will concentrate on two areas for efficiency improvement:\n",
        "  1. How, why, and when to move from a notebook to a script\n",
        "  2. Writing better, more performant code."
      ]
    },
    {
      "cell_type": "markdown",
      "metadata": {
        "id": "vK3SaFDTkNfe"
      },
      "source": [
        "### Example 1\n",
        "\n",
        "We will start with a simple toy example. Let's say we are now in a calculus class and the instructor wants us to plot a function $y = \\frac{\\sqrt{x^2+\\sin^2(15x)}}{1-x}$ when $x \\in [0,0.5]$.\n",
        "\n",
        "There will be four steps to plot this function using Python:\n",
        "1. Load modules\n",
        "2. Define domain $x$\n",
        "3. Denote $y$ as a function of $x$\n",
        "4. Plot $y$\n"
      ]
    },
    {
      "cell_type": "code",
      "metadata": {
        "id": "xPgup-u4v4--"
      },
      "source": [
        "# Step 1: load modules\n",
        "import numpy as np\n",
        "import matplotlib.pyplot as plt"
      ],
      "execution_count": null,
      "outputs": []
    },
    {
      "cell_type": "code",
      "metadata": {
        "id": "LX3lfMjtv5KO",
        "colab": {
          "base_uri": "https://localhost:8080/"
        },
        "outputId": "58976de6-9a96-4901-bb6c-8c1ae72f2a80"
      },
      "source": [
        "# Step 2: Define domain x\n",
        "x = np.linspace(0.0, 0.5, 11, endpoint=True)\n",
        "print(\"x: \", x)"
      ],
      "execution_count": null,
      "outputs": [
        {
          "output_type": "stream",
          "text": [
            "x:  [0.   0.05 0.1  0.15 0.2  0.25 0.3  0.35 0.4  0.45 0.5 ]\n"
          ],
          "name": "stdout"
        }
      ]
    },
    {
      "cell_type": "code",
      "metadata": {
        "id": "glf5d6Z_v5Ux",
        "colab": {
          "base_uri": "https://localhost:8080/"
        },
        "outputId": "fdc6e9e1-0fb8-452d-d31f-a2b564a378ef"
      },
      "source": [
        "# Step 3: Denote y as a function of x\n",
        "y = np.sqrt( (x*x + np.sin(15*x)*np.sin(15*x)) ) / (1-x)\n",
        "print(\"y: \", y)"
      ],
      "execution_count": null,
      "outputs": [
        {
          "output_type": "stream",
          "text": [
            "y:  [  0.           0.30224103   0.58964326   0.83576749   1.016811\n",
            "   1.11388335   1.11501492   1.01684728   0.82637444   0.56553497\n",
            "   0.30596889   0.34706363   0.66238513   0.9936084    1.27145501\n",
            "   1.46075542   1.53867664   1.4943518    1.33203923   1.07914504\n",
            "   0.81321212   0.72471797   0.96272695   1.36860818   1.7837082\n",
            "   2.12588236   2.34547512   2.41322585   2.32212153   2.09730445\n",
            "   1.81975556   1.66412552   1.84254803   2.36200294   3.04943735\n",
            "   3.74739114   4.34576366   4.76788885   4.96998795   4.95646123\n",
            "   4.81640555   4.78452681   5.25420408   6.57313452   8.83864246\n",
            "  12.06677009  16.47422948  22.865666    34.04128873  64.7241783\n",
            "          inf -54.72209523 -26.13918095 -17.95075825 -14.73506942\n",
            " -13.1020547  -11.90872474 -10.75701938  -9.542202    -8.28729268\n",
            "  -7.07810329  -6.03229303  -5.26814983  -4.85003271  -4.7330055\n",
            "  -4.78037485  -4.84573039  -4.82965663  -4.68875876  -4.4256043\n",
            "  -4.07737098  -3.7059641   -3.38548794  -3.18007523  -3.11344279\n",
            "  -3.15425998  -3.23731289  -3.2986677   -3.29637359  -3.21516434\n",
            "  -3.0641621   -2.87244994  -2.68257131  -2.53931323  -2.47256439\n",
            "  -2.4821497   -2.53880257  -2.60129948  -2.63429467  -2.61751657\n",
            "  -2.54787133  -2.43807038  -2.31315584  -2.20418681  -2.13802986\n",
            "  -2.12570006  -2.15705214  -2.2069852   -2.24773343  -2.25865098\n",
            "  -2.23074124]\n"
          ],
          "name": "stdout"
        },
        {
          "output_type": "stream",
          "text": [
            "/usr/local/lib/python3.6/dist-packages/ipykernel_launcher.py:2: RuntimeWarning: divide by zero encountered in true_divide\n",
            "  \n"
          ],
          "name": "stderr"
        }
      ]
    },
    {
      "cell_type": "code",
      "metadata": {
        "id": "BnWBh4YGv5e3",
        "colab": {
          "base_uri": "https://localhost:8080/",
          "height": 265
        },
        "outputId": "931e6d47-6897-4e53-c587-665cebd7372e"
      },
      "source": [
        "# Step 4: Plot y\n",
        "plt.plot(x, y, '-o')\n",
        "plt.show()"
      ],
      "execution_count": null,
      "outputs": [
        {
          "output_type": "display_data",
          "data": {
            "image/png": "[encoded data removed]",
            "text/plain": [
              "<Figure size 432x288 with 1 Axes>"
            ]
          },
          "metadata": {
            "tags": [],
            "needs_background": "light"
          }
        }
      ]
    },
    {
      "cell_type": "markdown",
      "metadata": {
        "id": "pVICE-g7wqr-"
      },
      "source": [
        "The customer is not satisfied with this plot for it has too few points and it looks like a polyline instead of a smooth curve. One way to have a more smoothed curve is to have more intervals in $x$, so the developers decide to divide the domain $x$ into 100 intervals."
      ]
    },
    {
      "cell_type": "code",
      "metadata": {
        "id": "MXrjIgCxxNBr",
        "colab": {
          "base_uri": "https://localhost:8080/"
        },
        "outputId": "1342f5c1-7ad6-4a95-8198-b71c8742c1ef"
      },
      "source": [
        "# Step 5: Change domain x\n",
        "x = np.linspace(0.0, 0.5, 101, endpoint=True)\n",
        "print(\"x: \", x)"
      ],
      "execution_count": null,
      "outputs": [
        {
          "output_type": "stream",
          "text": [
            "x:  [0.    0.005 0.01  0.015 0.02  0.025 0.03  0.035 0.04  0.045 0.05  0.055\n",
            " 0.06  0.065 0.07  0.075 0.08  0.085 0.09  0.095 0.1   0.105 0.11  0.115\n",
            " 0.12  0.125 0.13  0.135 0.14  0.145 0.15  0.155 0.16  0.165 0.17  0.175\n",
            " 0.18  0.185 0.19  0.195 0.2   0.205 0.21  0.215 0.22  0.225 0.23  0.235\n",
            " 0.24  0.245 0.25  0.255 0.26  0.265 0.27  0.275 0.28  0.285 0.29  0.295\n",
            " 0.3   0.305 0.31  0.315 0.32  0.325 0.33  0.335 0.34  0.345 0.35  0.355\n",
            " 0.36  0.365 0.37  0.375 0.38  0.385 0.39  0.395 0.4   0.405 0.41  0.415\n",
            " 0.42  0.425 0.43  0.435 0.44  0.445 0.45  0.455 0.46  0.465 0.47  0.475\n",
            " 0.48  0.485 0.49  0.495 0.5  ]\n"
          ],
          "name": "stdout"
        }
      ]
    },
    {
      "cell_type": "markdown",
      "metadata": {
        "id": "tGrDpPCzxMdD"
      },
      "source": [
        "After changing the number of intervals in $x$, the customer feels more satisfied but now, wants to see the plot of $y$ in $x \\in [0,2]$."
      ]
    },
    {
      "cell_type": "code",
      "metadata": {
        "id": "ciVYKrKMxxG6",
        "colab": {
          "base_uri": "https://localhost:8080/"
        },
        "outputId": "3e12ab9c-5029-401d-80da-e47c3b7878e4"
      },
      "source": [
        "# Step 5: Change domain x\n",
        "x = np.linspace(0.0, 2.0, 101, endpoint=True)\n",
        "print(\"x: \", x)"
      ],
      "execution_count": null,
      "outputs": [
        {
          "output_type": "stream",
          "text": [
            "x:  [0.   0.02 0.04 0.06 0.08 0.1  0.12 0.14 0.16 0.18 0.2  0.22 0.24 0.26\n",
            " 0.28 0.3  0.32 0.34 0.36 0.38 0.4  0.42 0.44 0.46 0.48 0.5  0.52 0.54\n",
            " 0.56 0.58 0.6  0.62 0.64 0.66 0.68 0.7  0.72 0.74 0.76 0.78 0.8  0.82\n",
            " 0.84 0.86 0.88 0.9  0.92 0.94 0.96 0.98 1.   1.02 1.04 1.06 1.08 1.1\n",
            " 1.12 1.14 1.16 1.18 1.2  1.22 1.24 1.26 1.28 1.3  1.32 1.34 1.36 1.38\n",
            " 1.4  1.42 1.44 1.46 1.48 1.5  1.52 1.54 1.56 1.58 1.6  1.62 1.64 1.66\n",
            " 1.68 1.7  1.72 1.74 1.76 1.78 1.8  1.82 1.84 1.86 1.88 1.9  1.92 1.94\n",
            " 1.96 1.98 2.  ]\n"
          ],
          "name": "stdout"
        }
      ]
    },
    {
      "cell_type": "markdown",
      "metadata": {
        "id": "MMEzfec3yOQ-"
      },
      "source": [
        "Even in a very simple example we're likely to make errors when coding in a notebook. This non-linear development feature of notebook can be good and bad at the same time. It's good because you can always output and adjust variables at any time, but it's bad because you will easily forget to change a corresponding variable/function, run other cells, and then have to end up getting the wrong output.\n",
        "\n",
        "Developing in a script may seem unattractive at first sight. As developers, we always want to have an immediate response of our program if we want to test something. The linear development feature of a script makes it difficult to do so, i.e. we will have to run the entire script and have many print/if/try-except statements to test our program. However, the linear development feature in the script ensures we will be unlikely encounter the similar errors when it comes to changing variables in the notebook (and allows us to practice writing good code)."
      ]
    },
    {
      "cell_type": "markdown",
      "metadata": {
        "id": "Uupm6aYmSRuP"
      },
      "source": [
        "### Recap\n",
        "* We defined a function and plotted it.\n",
        "* However, we decided that it didn't have enough points *and* that the domain needed to be changed.\n",
        "* So we defined a new domain with more points.\n",
        "* We already created a cell to do the plot.  Instead of re-writing this cell, we just returned to it and tried to re-plot.\n",
        "* This caused two potential problems:\n",
        "  1. We might forget to re-define $y$\n",
        "  2. Our original function has no meaning anymore because it has a singularity in it!\n",
        "\n",
        "Of course, this exercise was completely contrived (e.g. you would likely have written a function to do the plotting for you).  However, such situations *do* frequently arise when running very big and complex notebooks.\n"
      ]
    },
    {
      "cell_type": "markdown",
      "metadata": {
        "id": "H8ZkEHxN3CLi"
      },
      "source": [
        "### How Is This Possible?!?!"
      ]
    },
    {
      "cell_type": "code",
      "metadata": {
        "id": "16RrDiNH2oVT"
      },
      "source": [
        "def f(x):\n",
        "  return x + 1"
      ],
      "execution_count": null,
      "outputs": []
    },
    {
      "cell_type": "code",
      "metadata": {
        "colab": {
          "base_uri": "https://localhost:8080/"
        },
        "id": "R_dVXBvu2snz",
        "outputId": "792051cb-5771-48e5-ed98-438e93843224"
      },
      "source": [
        "x = 1\n",
        "print(f(x))"
      ],
      "execution_count": null,
      "outputs": [
        {
          "output_type": "stream",
          "text": [
            "3\n"
          ],
          "name": "stdout"
        }
      ]
    },
    {
      "cell_type": "markdown",
      "metadata": {
        "id": "orR7c0RxGAJk"
      },
      "source": [
        "### Conda Environment Setup\n",
        "\n",
        "To ensure we are all using the same environment (i.e. the same Python version and the same modules) please run the following commands.\n",
        "\n",
        "```\n",
        "$ cd /your_computefest_folder/2021-ComputeFest/Day 3/PythonPerformance/\n",
        "$ conda env create -f environment.yml\n",
        "$ conda activate python_performance_env\n",
        "```\n",
        "\n",
        "We have now switched to the environment that the presenters used when they developed this part of code."
      ]
    },
    {
      "cell_type": "markdown",
      "metadata": {
        "id": "zBr_4twl3-n0"
      },
      "source": [
        "### Activity 1\n",
        "Please open `/your_computefest_folder/2021-ComputeFest/Day 3/PythonPerformance/plot_function.py` in Sublime Text or other preferred text editor and complete the script. Run it in your terminal `python plot_function.py`."
      ]
    },
    {
      "cell_type": "markdown",
      "metadata": {
        "id": "HbYqJHO-38az"
      },
      "source": [
        "### Example 2\n",
        "\n",
        "Now we've seen how developing a simple code in the notebook would be problematic, let's move to a more complicated example. The folder `/your_computefest_folder/2021-ComputeFest/Day 3/PythonPerformance/regenerative_morph/` contains an example of creating a morphed image based on two input images. For example, if we are given two frames of an animation, Frame 50 and Frame 60, we can use this example to create Frame 55, which is the in-between of the two input images. This example implements \"[Regenerative Morphing](https://grail.cs.washington.edu/projects/regenmorph/)\" proposed by Shechtman et al.\n",
        "\n"
      ]
    },
    {
      "cell_type": "markdown",
      "metadata": {
        "id": "FxRzNbdInFkf"
      },
      "source": [
        "![How to do regenerative morphing](https://drive.google.com/uc?id=1WcQ9pS-ONoI4A0etwJVdKI5GU7jPumWV)\n",
        "\n",
        "<!-- \n",
        "![How to do regenerative morphing](https://doc-0k-ak-docs.googleusercontent.com/docs/securesc/9b8pb5vl29fpebqp9c04klfmdjnjkbf2/a2n0hid7ei45atq6vq2ebkpddp6al490/1579291200000/14031428554834639237/08070606809969017334/1WcQ9pS-ONoI4A0etwJVdKI5GU7jPumWV?h=06292197958150832157&authuser=0) -->\n",
        "\n",
        "<!-- <img src=\"https://drive.google.com/uc?id=1WcQ9pS-ONoI4A0etwJVdKI5GU7jPumWV\" alt=\"morph\" width=\"400\"/> -->"
      ]
    },
    {
      "cell_type": "markdown",
      "metadata": {
        "id": "gKoAppv-nKm5"
      },
      "source": [
        "In the second example we'll go through the development process of the regerative morphing code, spot the mistakes or where to improve in the development process, and test Python performance in different settings. "
      ]
    },
    {
      "cell_type": "markdown",
      "metadata": {
        "id": "F9pkNry1rpIK"
      },
      "source": [
        "### Activity 2\n",
        "\n",
        "First, let's scroll through the two notebooks used in the actual development. What are the potential/existing issues?\n",
        "\n",
        " [Notebook 1](https://colab.research.google.com/drive/1eESxJh5H8GyGQa7027Vf4woPbIMFjY72): Used for initial development\n",
        "\n",
        " [Notebook 2](https://colab.research.google.com/drive/1lZOynX7lKcJ-Oj0wFBz9P0NeHGhZFE0r): Cleaned up in order to run on cluster"
      ]
    },
    {
      "cell_type": "markdown",
      "metadata": {
        "id": "ksGsgbsartZ_"
      },
      "source": [
        "\n",
        "\n",
        "*   Messy\n",
        "*   Heavyweight (Not straightforward text file)\n",
        "*   Global variables not passed into functions\n",
        "*   ...\n"
      ]
    },
    {
      "cell_type": "markdown",
      "metadata": {
        "id": "8DgOSfmftZJG"
      },
      "source": [
        "### Back to Example 2\n",
        "\n",
        "However tempting and easy developing in a notebook may seem, it is sometimes better to work with classical scripts in text files. (This does not mean you should entirely abandon using notebooks.  They are a truly wonderful tool.) In the current directory, you will find the a Python script version of the program called `regenerative_morph.py`. Moving from notebook to script can improve the Python performance in at least the following aspects:\n",
        "\n",
        "*   Lightweight: The `.py` file is 11 KB\n",
        "*   Version control: `.ipynb` files are hard to version and track diffs\n",
        "*   Linear development cycle\n",
        "*   Used in actual dev environment\n",
        "*   ...\n",
        "\n"
      ]
    },
    {
      "cell_type": "markdown",
      "metadata": {
        "id": "IcX9zQNtq5C3"
      },
      "source": [
        "Transitioning from notebook to script is one way to improve the performance. Another way to improve the performance is, unsurprisingly, writing better, more efficient code. Now we will look at two scripts and see how code efficiency will affect performance.\n"
      ]
    },
    {
      "cell_type": "markdown",
      "metadata": {
        "id": "BC2SsxkV2SXI"
      },
      "source": [
        "### Activity 3\n",
        "\n",
        "Let's start with a small toy example first. Below is a small codelet that finds the smallest distance between the number 1.33 and a list of random numbers. Run the two cells and compare their runtime."
      ]
    },
    {
      "cell_type": "code",
      "metadata": {
        "id": "sbjdAuxV2Y-G",
        "colab": {
          "base_uri": "https://localhost:8080/"
        },
        "outputId": "cd1fb827-eac0-41a1-b7e9-ae8e7e947161"
      },
      "source": [
        "import time\n",
        "import random\n",
        "\n",
        "A = 1.33\n",
        "N = 1000000\n",
        "B = [random.random() for _ in range(N)]\n",
        "\n",
        "start = time.time()\n",
        "dist = []\n",
        "for b in B:\n",
        "  d = abs(A-b)\n",
        "  dist.append(d)\n",
        "minDist = min(dist)\n",
        "end = time.time()\n",
        "\n",
        "print('The smallest distance is ', minDist)\n",
        "print('Time elapsed: ', end - start, ' s.')"
      ],
      "execution_count": null,
      "outputs": [
        {
          "output_type": "stream",
          "text": [
            "The smallest distance is  0.3300006231460332\n",
            "Time elapsed:  0.27053380012512207  s.\n"
          ],
          "name": "stdout"
        }
      ]
    },
    {
      "cell_type": "code",
      "metadata": {
        "id": "uTH7F2PA5fkz",
        "colab": {
          "base_uri": "https://localhost:8080/"
        },
        "outputId": "4c767f5a-30f0-488e-83b4-15d3ef9e4f49"
      },
      "source": [
        "C = np.array(B) # convert to a numpy array\n",
        "\n",
        "start = time.time()\n",
        "minDist = np.min(np.abs(C-A)) # use \"vectorized\" numpy functions\n",
        "end = time.time()\n",
        "\n",
        "print('The smallest distance is ', minDist)\n",
        "print('Time elapsed: ', end - start, ' s.')"
      ],
      "execution_count": null,
      "outputs": [
        {
          "output_type": "stream",
          "text": [
            "The smallest distance is  0.3300006231460332\n",
            "Time elapsed:  0.00819253921508789  s.\n"
          ],
          "name": "stdout"
        }
      ]
    },
    {
      "cell_type": "markdown",
      "metadata": {
        "id": "vyx-YPi2ASF2"
      },
      "source": [
        "The NumPy library takes advantage of a processor feature called Single Instruction Multiple Data (SIMD) to process data faster; this allows for breaking down a task into multiple fragments, and then processing all the fragments in parallel. Relatedly, NumPy integrates C, C++, and Fortran (low-level languages) codes into Python (a high-level language), and we can see the drastic speed-up just in the simple example above!"
      ]
    },
    {
      "cell_type": "markdown",
      "metadata": {
        "id": "1JzkIkGx51dl"
      },
      "source": [
        "### Activity 4\n",
        "\n",
        "Now that we've seen how utilizing certain libraries and being smart about our implementation will improve the performance, another question emerges: For a `.py` file with hundreds (or many more!) of lines of code, how do we know which function to improve/rewrite?\n",
        "\n",
        "A useful tool to pin down which part of the code can be improved is a [profiler](https://docs.python.org/3/library/debug.html). A profiler gives detailed runtime information on each function, which hints at the places for improvement and where the bottlenecks may be. Some often-used profilers are `cProfile`, `profile` and some [custom built packages with visualization](https://stackoverflow.com/questions/582336/how-can-you-profile-a-python-script) (flow chart or pie chart). This [documentation](https://docs.python.org/2/library/profile.html) explains all the terminology in the output, and this [page](https://pymotw.com/2/profile/) presents another examples of how to use profilers in practice. Please refer to the links for more detail.\n",
        "\n",
        "Now let's see how to profile the `regenerative_morph_slow.py` script.\n",
        "\n",
        "(Note: You can try to run this script, but please note that it will take a long time to run; if you decide to run it and find that it's taking too long, you can always `Crtl+C` to stop running the script.)"
      ]
    },
    {
      "cell_type": "markdown",
      "metadata": {
        "id": "VjmG0jFmMN6z"
      },
      "source": [
        "```\n",
        "$ python regenerative_morph_slow.py\n",
        "\n",
        "707299794 function calls (707299099 primitive calls) in 4696.221 seconds\n",
        "\n",
        "   Ordered by: standard name\n",
        "\n",
        "   ncalls  tottime  percall  cumtime  percall filename:lineno(function)\n",
        "   ...\n",
        "   254662   13.713    0.000   20.434    0.000 regenerative_morph_slow.py:113(pixel_complete)\n",
        "        3    5.763    1.921 4695.911 1565.304 regenerative_morph_slow.py:136(target2sources)\n",
        "       27    0.000    0.000    0.003    0.000 regenerative_morph_slow.py:19(im2col_sliding_strided)\n",
        "        1    0.012    0.012 4696.219 4696.219 regenerative_morph_slow.py:274(regenerative_morph)\n",
        "        9    0.008    0.001    0.011    0.001 regenerative_morph_slow.py:36(create_patches)\n",
        "    25424  954.729    0.038 4654.226    0.183 regenerative_morph_slow.py:54(patch_match)\n",
        "    20300    2.991    0.000    4.146    0.000 regenerative_morph_slow.py:75(idx2patch)\n",
        "   254662    2.425    0.000    2.425    0.000 regenerative_morph_slow.py:93(pixel_cohere)\n",
        "   ...\n",
        "```\n",
        "\n"
      ]
    },
    {
      "cell_type": "markdown",
      "metadata": {
        "id": "J4zBC1BWo4hk"
      },
      "source": [
        "We are most interested in `tottime`, which is the total time spent in the given function (and excluding time made in calls to sub-functions). \n",
        "It tells you how much time has been spent on that particular function. In the output above, we see that the program spends most of its time in the function `patch_match`. This tells us we may be able to improve the code a little bit, and as a result speed the execution time.\n",
        "\n",
        "`cumtime`, on the other hand, is the cumulative time spent in this function and all subfunctions. Since the code is structured as `regenerative_morph` calls `target2sources`, and `target2sources` calls `patch_match`, it still tells us `patch_match` is the slowest and responsible for most of the runtime.\n",
        "\n"
      ]
    },
    {
      "cell_type": "markdown",
      "metadata": {
        "id": "qflyYogBnQrN"
      },
      "source": [
        "### Activity 5\n",
        "\n",
        "Now let's pretend we ran `regenerative_morph.py` and `regenerative_morph_slow.py` separately. Compare the difference in runtime and script to see how the changes in `patch_match` has affected the performance. You can also modify the code to profile `regenerative_morph.py` and see how the runtime of each function has changed."
      ]
    },
    {
      "cell_type": "markdown",
      "metadata": {
        "id": "17naGlQAeY2B"
      },
      "source": [
        "```\n",
        "$ python regenerative_morph.py\n",
        "\n",
        "# Sample output\n",
        "Creating Frame 55\n",
        "Time elapsed: 81.4702 s.\n",
        "```"
      ]
    },
    {
      "cell_type": "markdown",
      "metadata": {
        "id": "0AuHmHwbeqqE"
      },
      "source": [
        "```\n",
        "$ python regenerative_morph_slow.py\n",
        "\n",
        "# Sample output: This one is fairly long to run. Can skip. \n",
        "Creating Frame 55\n",
        "Time elapsed: 718.5240 s.\n",
        "```\n",
        "\n"
      ]
    },
    {
      "cell_type": "markdown",
      "metadata": {
        "id": "25F1Fiwmj_Ar"
      },
      "source": [
        "```\n",
        "$ python regenerative_morph.py\n",
        "\n",
        "3863970 function calls (3863275 primitive calls) in 100.510 seconds\n",
        "\n",
        "   Ordered by: standard name\n",
        "\n",
        "   ncalls  tottime  percall  cumtime  percall filename:lineno(function)\n",
        "   ...\n",
        "   254662   12.664    0.000   18.855    0.000 regenerative_morph.py:108(pixel_complete)\n",
        "        3    4.450    1.483  100.237   33.412 regenerative_morph.py:131(target2sources)\n",
        "       27    0.000    0.000    0.003    0.000 regenerative_morph.py:16(im2col_sliding_strided)\n",
        "        1    0.010    0.010  100.509  100.509 regenerative_morph.py:269(regenerative_morph)\n",
        "        9    0.007    0.001    0.010    0.001 regenerative_morph.py:33(create_patches)\n",
        "    25424   51.818    0.002   63.029    0.002 regenerative_morph.py:50(patch_match)\n",
        "    20300    2.752    0.000    3.803    0.000 regenerative_morph.py:70(idx2patch)\n",
        "   254662    2.086    0.000    2.086    0.000 regenerative_morph.py:88(pixel_cohere)\n",
        "   ...\n",
        "```\n",
        "\n"
      ]
    },
    {
      "cell_type": "markdown",
      "metadata": {
        "id": "6o1WB93hZg03"
      },
      "source": [
        "Let us switch off the `python_performance_env` by typing the following in your terminal:\n",
        "\n",
        "```\n",
        "$ conda deactivate\n",
        "```\n",
        "\n"
      ]
    },
    {
      "cell_type": "markdown",
      "metadata": {
        "id": "b6b7tRSGm8rH"
      },
      "source": [
        "### Conclusion\n",
        "\n",
        "For development, it is a good habit to move from coding in notebook to script.\n",
        "\n",
        "| Notebook \t| Script \t|\n",
        "|:----------------------------------------------------:\t|:--------------------------:\t|\n",
        "| Interactive and easy to use \t| Not interactive \t|\n",
        "| Non-linear dev \t| Linear dev \t|\n",
        "| Heavyweight \t| Lightweight \t|\n",
        "| Hard to track changes \t| Version control \t|\n",
        "| Good for education, documentation, tutorials, etc\t| Good for production \t|\n",
        "| Require additional setup if need to run on the cloud \t| Easy to run on the cloud \t|\n",
        "\n",
        "However, moving from notebook to script isn't the end of the solution to improve program performance. Often times we find our laptops simply do not have the resource or power to run some machine learning or neural network programs. For example, to generate a neural style transferred image for Example 2, it would take 2~3 hours on a CPU to generate a result, whereas on AWS EC2 GPU it takes a couple minutes. For people lacking computing resources (most of us), sending our scripts to cloud and allowing the cloud do the job will drastically increase the development performance. What's more, if we want to work with other developers or release our program to the public, we will need to work on the cloud.\n",
        "\n",
        "#### Additional Resources\n",
        "[I don't like notebooks. - JupyterCon Talk by Alan Grus](https://www.youtube.com/watch?v=7jiPeIFXb6U)\n",
        "\n",
        "[Potential option to creating Jupyter Notebooks in a more linear and reproducible way](https://jakevdp.github.io/blog/2017/03/03/reproducible-data-analysis-in-jupyter/)"
      ]
    },
    {
      "cell_type": "markdown",
      "metadata": {
        "id": "IaaB4PlOxKV9"
      },
      "source": [
        "Now let's move to the second part of the workshop and learn the first steps of how to deploy a machine learning program onto the cloud with Docker."
      ]
    },
    {
      "cell_type": "markdown",
      "metadata": {
        "id": "2HMILNBwe2l5"
      },
      "source": [
        "# Part II: Docker\n",
        "\n",
        "![progress](https://progress-bar.dev/50/?scale=100&title=Docker&width=960&color=babaca&suffix=% \"progress\")"
      ]
    },
    {
      "cell_type": "markdown",
      "metadata": {
        "id": "iWRag7ZBoYzN"
      },
      "source": [
        "*We assume you have completed HW0 and therefore:*\n",
        "- Have Docker installed\n",
        "- Cloned [2021-ComputeFest](https://github.com/Harvard-IACS/2021-ComputeFest) and have your terminal up and running\n",
        "- Check that your Docker is running with the following command\n",
        "```\n",
        "$ docker run hello-world\n",
        "```\n",
        "- In the terminal, make sure you've executed\n",
        "```\n",
        "$ docker pull tensorflow/tensorflow:2.1.0-py3-jupyter\n",
        "```"
      ]
    },
    {
      "cell_type": "markdown",
      "metadata": {
        "id": "Ixtkl-ZPyz88"
      },
      "source": [
        "### Docker"
      ]
    },
    {
      "cell_type": "markdown",
      "metadata": {
        "id": "jSuT0kTqro21"
      },
      "source": [
        "Docker helps solve the problem in software development in which code can sometimes run differently on different platforms (e.g. Mac vs Windows), making it difficult to develop with others and deploy applications reliably.\n",
        "\n",
        "Docker solves this problem by \"containerizing\" applications: creating *lightweight* (compared to virtual machines) packages that contain *everything* needed to run an app and are operating system independent (compared to virtual environments) as long as the OS is supported by the Docker Engine. Check out the [Docker](https://www.docker.com/resources/what-container) website for much more info.\n",
        "\n",
        "<img src=\"https://www.docker.com/sites/default/files/d8/styles/large/public/2018-11/container-what-is-container.png?itok=vle7kjDj\" alt=\"docker\" width=\"400\"/>"
      ]
    },
    {
      "cell_type": "markdown",
      "metadata": {
        "id": "3noitAoeXfrr"
      },
      "source": [
        "**Terminology:**\n",
        "\n",
        "- **Docker Image:** a template (aka blueprint) created by Docker from the Dockerfile\n",
        "\n",
        "- **Docker Container** running version of a Docker Image\n",
        "\n",
        "  - Ways to remember this: image is the recipe and container is the dish; image is the class and container is instance of the class \n",
        "\n",
        "- **Docker Engine** creates, ships, and runs Docker containers wherever you want them deployed\n",
        "\n",
        "- **Registry Service (Docker Hub or Docker Trusted Registry)** cloud or server-based storage and distribution service for your images (similar to GitHub)"
      ]
    },
    {
      "cell_type": "markdown",
      "metadata": {
        "id": "XoRGoQLT24nb"
      },
      "source": [
        "### Dockerfile\n",
        "\n",
        "You will see a file in `2021-ComputeFest/Day 3/ml_deploy_demo/` that is called a `Dockerfile`. This file is what we will use to tell Docker how to construct our Docker Image (more info [here](https://docs.docker.com/engine/reference/builder/)). Mehul will actually help you create a Dockerfile in a little bit!"
      ]
    },
    {
      "cell_type": "markdown",
      "metadata": {
        "id": "-w72hVuqD8AO"
      },
      "source": [
        "\n",
        "Docker is very useful when it comes to:  \n",
        "\n",
        "1. Cross-platform development\n",
        "\n",
        "2. Application deployment"
      ]
    },
    {
      "cell_type": "markdown",
      "metadata": {
        "id": "J9D1AemplytV"
      },
      "source": [
        "### First Docker Example\n",
        "\n",
        "For this part, we will follow a simple **Tensorflow text classification** [example](https://www.tensorflow.org/tutorials/keras/text_classification_with_hub). \n",
        "- We'll use this tensorflow [IMDB dataset](https://www.tensorflow.org/api_docs/python/tf/keras/datasets/imdb) that contains the text of 50,000 movie reviews from the [Internet Movie Database](https://www.imdb.com/), split into 25,000 reviews for training and 25,000 reviews for testing. The training and testing sets are balanced, meaning they contain an equal number of positive and negative reviews.\n",
        "\n",
        "- Example review: \n",
        "'array([b\"This was an absolutely terrible movie. Don't be lured in by Christopher Walken or Michael Ironside. Both are great actors, but this must simply be their worst role in history. ... ], dtype=object)>'\n",
        "\n",
        "- Our goal is to serve a model trained to predict the sentiment (1 = \"positive\", 0 = \"negative\") of some text\n",
        "\n",
        "- Training code can be found at: `ml_deploy_demo\\ml_deply_demo\\pipelines\\keras.py`, but we will not focus on this part (see the code for more details)\n",
        "\n",
        "- We have already trained a pretty decent model and saved it to: `2021-ComputeFest\\Day 3\\ml_deploy_demo\\models\\imbd\\v1.keras`"
      ]
    },
    {
      "cell_type": "markdown",
      "metadata": {
        "id": "U2j0aAJznzkF"
      },
      "source": [
        "\n",
        "\n",
        "In `2021-ComputeFest/Day 3/ml_deploy_demo/ml_deploy_demo` we provide all of the code needed to serve the model. The key tools we use for this example are:\n",
        "\n",
        "1. [Flask](http://flask.palletsprojects.com/en/1.1.x/quickstart/#a-minimal-application): a popular web development framework for Python\n",
        "\n",
        "2. [gunicorn](https://gunicorn.org/): an HTTP server for running our app\n",
        "\n",
        "If you wish to see the relevant code to the present demo, please take a look at the following files:\n",
        "\n",
        "- `api/app.py`\n",
        "- `api/ml_app.py`\n",
        "- `predict.py`\n",
        "- `run.py`\n",
        "\n",
        "**Note:** In the afternoon session, Shivas will do a deeper dive through these concepts and demonstrate different tools similar to these. Instead of Flask, he will introduce you to FastAPI and instead of gunicorn he will show you uvicorn."
      ]
    },
    {
      "cell_type": "markdown",
      "metadata": {
        "id": "1driZZH0tuTp"
      },
      "source": [
        "### Building an Image\n",
        "\n",
        "1. Navigate to the `ml_deploy_demo` folder: \n",
        "```\n",
        "cd your_computefest_folder/2021-ComputeFest/Day 3/ml_deploy_demo/\n",
        "```\n",
        "This folder contains a `Dockerfile`, which is essentially a playbook for building Docker Images.\n",
        "\n",
        "2. Build a Docker Image with \n",
        "```\n",
        "docker build -t ml_deploy_demo:latest .\n",
        "```\n",
        "(Don't forget the \"dot\"!)\n",
        "\n",
        "This will:\n",
        "\n",
        "1. Use the current directory `.` to look for the `Dockerfile`, and then execute the instructions contained inside\n",
        "2. Tag (`-t`) the *Docker Image*  that we create from the `Dockerfile` with the \"repository name\" `ml_deploy_demo` and \"tag\" `latest`."
      ]
    },
    {
      "cell_type": "markdown",
      "metadata": {
        "id": "O6C6gngkq9VA"
      },
      "source": [
        "### Sharing Images\n",
        "\n",
        "If you create an account with [Docker Hub](https://hub.docker.com/), you can share Docker Images in a way very similar to how you share code on Github. \n",
        "\n",
        "- **Docker Pull**: `docker pull repository:tag` to pull Images from Docker Hub\n",
        "- **Docker Push**: `docker push repository:tag` to push Images to Docker Hub\n",
        "\n",
        "If you were not able to build the image above, try `docker pull connorcapitolo/ml_deploy_demo:latest` to get a pre-built version of the Image\n",
        "\n",
        "Note: You'll only be able to pull this image if you have a Docker Hub account. Also, if you want to push this image to your DockerHub, just know that it may take a little while."
      ]
    },
    {
      "cell_type": "markdown",
      "metadata": {
        "id": "I35LOH2bq4Op"
      },
      "source": [
        "### Running a Container \n",
        "\n",
        "1. Run `docker images` to list the set of Docker Images available on your machine\n",
        "\n",
        "    - We tagged the Image with repository `ml_deploy_demo` and tag `latest`\n",
        "\n",
        "    - You can try this fancy command: \n",
        "    \n",
        "    ``` \n",
        "    docker images | grep ml_deploy_demo | awk '{print $3}' \n",
        "    ```\n",
        "    It's just a nice way to find the exact image and print out some information about the Docker ID.\n",
        "\n",
        "2. Run a Docker Container  we just built.  **Specify the image ID** in place of `{image_id}` (Note:  You do NOT need the `{}` brackets for the actual ID.) . You can find the image ID in the `IMAGE ID` column after running the `docker images` command.\n",
        "```\n",
        "docker run -it --rm -p 5000:5000 {image_id} /bin/bash ml_deploy_demo/run.sh\n",
        "```\n",
        "This line actually runs our container and does a few important things:\n",
        "- `-it` provides an interactive view\n",
        "- `--rm` will delete the container when it is stopped\n",
        "- `-p 5000:5000` forwards port 5000 from the container to our computer (called `localhost`)\n",
        "- `/bin/bash ml_deploy_demo/run.sh` executes `run.sh` (starts the server)\n",
        "\n",
        "\n",
        "3. Test it by running `make test_api` (see `Makefile` for more info) in a separate terminal window/pane. You should see something like:\n",
        "```\n",
        "HTTP/1.1 200 OK\n",
        "Server: gunicorn/20.0.4\n",
        "Date: Sun, 19 Jan 2020 21:14:19 GMT\n",
        "Connection: close\n",
        "Content-Type: application/json\n",
        "Content-Length: 114\n",
        "```\n",
        "```\n",
        "{\"input\":{\"data\":[\"this is the best!\",\"this is the worst!\"]},\"pred\":[[0.9529516100883484],[0.08470050245523453]]}\n",
        "```\n",
        "\n",
        "Nice, you just ran built and ran your first Docker container, which allowed you to make a prediction about the sentiment of these two movie reviews!\n",
        "\n",
        "When you're reading to stop/remove the container (aka kill the foreground job), in your original terminal window perform the key combinations `Crtl+C`.\n",
        "\n",
        "\n"
      ]
    },
    {
      "cell_type": "markdown",
      "metadata": {
        "id": "RpD2Q8lZ01Ht"
      },
      "source": [
        "# More Docker Examples\n",
        "\n",
        "We have just learn how to run a Docker container. But wouldn't it be fun to create our very own Dockerfile from scratch and put that in a container? Let's do that!"
      ]
    },
    {
      "cell_type": "markdown",
      "metadata": {
        "id": "boXFQfB5W5Kc"
      },
      "source": [
        "## Example 1: Building a Dockerfile and running it in a Docker Container\n",
        "\n",
        "Before we start, make sure Docker Desktop is running. To do this, you can see the whale icon in your time bar (on a Mac).\n",
        "\n",
        "### Building a Docker file for Linux Container\n",
        "1. Navigate to the `docker_examples` folder: \n",
        "```\n",
        "cd your_computefest_folder/2021-ComputeFest/Day 3/ml_deploy_demo/docker_examples/\n",
        "```\n",
        "This folder contains `day3.md`, a markdown file containing the agenda for Day 3.\n",
        "\n",
        "2. Open a new `Dockerfile` in the text editor and save it under the same directory `docker_examples`\n",
        "\n",
        "3. Copy and paste the following into your Dockerfile.\n",
        "```\n",
        "# The following line will download the latest Ubuntu Docker image\n",
        "# to use as a foundation for building our own Docker image.\n",
        "FROM ubuntu:latest\n",
        "RUN apt-get update \n",
        "# \n",
        "# The following line will copy the day3.md file to the Docker container \n",
        "# using the path that is specified second.\n",
        "COPY day3.md /day3.md\n",
        "```\n",
        "\n",
        "4. As done in the previous example, run the following command from the `docker_examples` directory to build the Docker image.\n",
        "```\n",
        "docker build -t day3:first .\n",
        "```\n",
        "\n",
        "  1. Again, note the \".\" at the end of the line, denoting current directory. \n",
        "  2. The `-t` flag tells the `build` command to tag your Docker image with a specific name. \n",
        "  3. If you choose to name the Dockerfile something else you could use: `docker build -t day3:first -f filename .`\n",
        "\n",
        "5. Run `docker image ls` to find our very own, brand new your docker image at the top of the list. \n",
        "\n",
        "\n",
        "### Running the Docker Container\n",
        "\n",
        "6. We now start the Docker container using the image we just built.\n",
        "```\n",
        "docker run -it day3:first\n",
        "```\n",
        "  <ul>\n",
        "    <li> The combination of the flags `-it` will open an interactive shell in the Docker container.\n",
        "    <li> You should see that your command-line prompt changes to `root@...`.    \n",
        "  </ul>\n",
        "\n",
        "7. We're now in the Docker container, which is running Linux. Use `ls` and ensure that our `day3.md` file is in the container.\n",
        "\n",
        "8. In a new terminal window (not the one connected to your Docker container), type the following: \n",
        "```\n",
        "docker ps\n",
        "```\n",
        "You should see that you have one container that is running and that it was created a few minutes ago.\n",
        "\n",
        "\n",
        "### Activity 1:\n",
        "\n",
        "9. Let's do a fun activity and count the number of lines that contain a numerical digit in `day3.md`. To do so, run the following command:\n",
        "```\n",
        "grep [0-9] day3.md\n",
        "```\n",
        "What do you get? \n",
        "\n",
        "10. Now, run the following in your Docker container.\n",
        "```\n",
        "grep [0-9] day3.md | wc -l \n",
        "```\n",
        "What do you get?\n",
        "\n",
        "\n",
        "### Exit and Delete\n",
        "\n",
        "11. Type `exit` in the Docker container window to leave the container.\n",
        "\n",
        "12. Type `docker ps` again (this time, you can run this in any terminal window) and you should see that there are no containers running.\n",
        "\n",
        "13. If you would like to clean up your local Docker registry to remove images and stopped containers, [follow these instructions](https://www.digitalocean.com/community/tutorials/how-to-remove-docker-images-containers-and-volumes)."
      ]
    },
    {
      "cell_type": "markdown",
      "metadata": {
        "id": "HTTG7Pg105MO"
      },
      "source": [
        "# Example 2: Web DB Servers\n",
        "In this example, we will build a simple Python web application that returns \"Hello world\" in a few different languages when you visit the web page. We will then Dockerize this app.\n",
        "\n",
        "\n",
        "### Building a Python web application locally\n",
        "\n",
        "1. Navigate to the `docker_examples` folder:\n",
        "```\n",
        "cd your_computefest_folder/2021-ComputeFest/Day 3/ml_deploy_demo/docker_examples/\n",
        "```\n",
        "This folder contains `hello_world_server.py`. If you are running Python 3, then you should be able to run the web application using `python hello_world_server.py` in your terminal window.\n",
        "\n",
        "2. Visit http://localhost:8082/ in a web browser to make sure your application is up and running. You should get a web page that says `Could not connect to database`. This is because our web server is trying to connect to a \"database\" to retrieve information about what should be displayed on the web page, but we have not started up our database server yet.\n",
        "\n",
        "3. Let's start up a database that our `hello world server` can connect to. This requires us to start up a second web server that will host our database. In this example, our database is really just a Python list.\n",
        "  <ul>\n",
        "    <li> Let's look at the `docker_examples` directory again. You will find the `hello_world_db.py` file inside. Now let's look at this Python file. What do you see? We see that the database is just a Python list. </li>\n",
        "    <li> Open a second Terminal window and `cd` into `docker_examples` as above. Run `python hello_world_db.py` in your terminal window. </li>\n",
        "    <li> You should see a message beginning with \"Created HTTP server to run our database...\", which means you have successfully started a web server with a \"database\".\n",
        "  </ul>\n",
        "\n",
        "4. Now, go back to http://localhost:8082/ in a web browser. You should see a web page that says \"Hello world!\" or its translation in Spanish, French, German, Mandarin, or Hindi. If you reload the page several times, you should see the translation changes.\n",
        "  <ul>\n",
        "    <li> Although this is a simple example, you are running a fully functioning web application using two individual web servers on your computer! </li>\n",
        "  </ul>\n",
        "\n",
        "Below is a schematic of the web application you have built. The servers are running on top of your OS, using your native Python. Because you are running the servers locally on your laptop, you are restricted to the localhost IP address to connect the two servers. As a result, a user can technically access your database directly by sending a request to http://localhost:8081, which is not what you want.\n",
        "\n",
        "![Web App Schematic](https://drive.google.com/uc?id=1RSjXFPdk8jnO2i_UhDcjXI0px3Ft8dKD)"
      ]
    },
    {
      "cell_type": "markdown",
      "metadata": {
        "id": "nghFtNfrwNDi"
      },
      "source": [
        "### Dockerize your Python web application\n",
        "\n",
        "We will now put our \"Hello world\" python web application into two individual Docker containers. \n",
        "\n",
        "1. First, we must create a network on which our Docker containers can communicate with each other. We can create the network as follows:\n",
        "```\n",
        "docker network create helloNetwork\n",
        "``` \n",
        "We should now be able to see our `helloNetwork` in the list of networks.\n",
        "``` \n",
        "docker network ls\n",
        "``` \n",
        "\n",
        "2. Let's create a Docker container to run our database server now.\n",
        "  1. Open a new Terminal window and `cd` into the `docker_examples` directory. You will find the `Dockerfile_db` file inside.\n",
        "  3. To build a Docker image for our database server, run the following:\n",
        "  ```\n",
        "  docker build -t dockerize_db:db -f Dockerfile_db .\n",
        "  ```\n",
        "    1. If you look at the build log, you will see that this Docker image also installs `numpy` just for the container. This is useful in the situation that different parts of our application rely on different versions of `numpy` or some other package. This encapsulation and isolation actually allows for more efficient development of individual components of an application because the back-end of the components can be changed and upgraded independently as long as the communication lines (API calls between the components remain consistent).\n",
        "  4. We should no be able to see our newly created Docker image with the tag db, when we run the following command: \n",
        "  ```\n",
        "  docker image ls \n",
        "  ```\n",
        "  5. We now connect our container to the Docker network. \n",
        "  ```\n",
        "  docker run --name db -d --network helloNetwork dockerize_db:db \n",
        "  ````\n",
        "    1. The `--name` flag allows us to name the container.\n",
        "    2. The `-d` flag tells Docker to run this container in the background.\n",
        "    3. The `--network` flag tells Docker which network we want the container to be connected to. Isolating containers to a specific network allows us to provide singular communication lines between different parts of an application and can prevent unwanted breaches. In this case, the container we just started is our database server and we do not want people on the outside to have access to it. Try going to http://localhost:8081/ to see if you can access the database server (hint: you should get a connection error).\n",
        "\n",
        "  6. Check that our container is connected to the `helloNetwork` we created by running \n",
        "  ```\n",
        "  docker network inspect helloNetwork\n",
        "  ``` \n",
        "  You should see a dictionary with your Docker container.\n",
        "\n",
        "3. Let's create a Docker container for our front-end web server now.\n",
        "  1. Find the `Dockerfile_server` in your docker_examples/ directory.\n",
        "  2. Run \n",
        "  ```\n",
        "  docker build -t dockerize_db:server -f Dockerfile_server .\n",
        "  ```\n",
        "  \n",
        "  3. To see that we created a new Docker image with the tag server, run:\n",
        "  ```\n",
        "  docker image ls\n",
        "  ``` \n",
        "\n",
        "  4. Run \n",
        "  ``` \n",
        "  docker run --name webServer -d -p 8082:8082 -e DB_URL=http://db:8081 --network helloNetwork dockerize_db:server\n",
        "  ```\n",
        "    1. The `-e` flag allows us to specify an environment variable for our Docker container. In this case, we specify the URL through which our front-end server should communicate with our database server on the private helloNetwork network. If you look at Dockerfile_server file, you will see that it defines the DB_URL and passes it to the Python call to hello_world_server.py.\n",
        "    2. By using the `-p 8082:8082` flag, we expose port 8082 to the outside so our web page can be accessed. \n",
        "\n",
        "4. If visit http://localhost:8082/, you will see that our \"Hello world\" application is working again. If you refresh the page a few times, you should see \"Hello world!\" in different languages.\n",
        "\n",
        "\n",
        "Below is a schematic of your Dockerized web application. The two servers are running in individual Docker containers on top of your OS. Since we created a separate network for our containers to communicate on, you can no longer directly access your database by sending a request to http://localhost:8081. This is the type of encapsulation you would like for your database because it generally stores sensitive information.\n",
        "\n",
        "![Dockerized Web App](https://drive.google.com/uc?id=17Ypo9aWyNLoRcuBUpxxMwik_YV_Oo3lj)\n",
        "\n",
        "\n",
        "5. Clean-up steps:\n",
        "  1. Stop your containers with the following coommand:\n",
        "  ```\n",
        "  docker stop $(docker container ls -q)\n",
        "  ``` \n",
        "  This may take a few seconds.\n",
        "\n",
        "  2. Delete your containers with the following command:\n",
        "  ```\n",
        "  docker rm $(docker ps -aq)\n",
        "  ``` \n",
        "  Beware, this will stop all containers you have running on your computer, so if you have containers running for other classes, you will have to remove the containers using the container IDs.\n",
        "\n",
        "  3. To delete your images, use the following command \n",
        "  ```\n",
        "  docker rmi\n",
        "  ```"
      ]
    },
    {
      "cell_type": "markdown",
      "metadata": {
        "id": "1CMXnD-6SJ6T"
      },
      "source": [
        "### Docker Overview\n",
        "\n",
        "This diagram gives a nice overview of how Docker components interact with one another. Check out Nick Janetakis' blog post about how the [Docker Daemon and Docker CLI Work Together](https://nickjanetakis.com/blog/understanding-how-the-docker-daemon-and-docker-cli-work-together)\n",
        "\n",
        "![Docker Overview](https://drive.google.com/uc?id=1VQrlW7JU5Bm2rc9q_vNfAMEP1CefvbfO)"
      ]
    },
    {
      "cell_type": "markdown",
      "metadata": {
        "id": "a2tJz491y4pm"
      },
      "source": [
        "### Serving a Model"
      ]
    },
    {
      "cell_type": "markdown",
      "metadata": {
        "id": "v1U6eM0MtuPo"
      },
      "source": [
        "Serving a machine learning model means running a server that will accept requests (e.g. HTTP POST) and return model predictions in its responses.\n",
        "\n",
        "![](https://storage.googleapis.com/public_colab_images/docker_container_diagram.png)"
      ]
    },
    {
      "cell_type": "markdown",
      "metadata": {
        "id": "BE8S7tEzSOHK"
      },
      "source": [
        "![progress](https://progress-bar.dev/100/?scale=100&title=Completed!&width=960&color=babaca&suffix=% \"progress\")"
      ]
    }
  ]
}